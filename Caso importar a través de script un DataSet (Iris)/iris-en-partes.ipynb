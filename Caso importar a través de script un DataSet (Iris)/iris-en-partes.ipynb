{
 "cells": [
  {
   "cell_type": "code",
   "execution_count": 3,
   "id": "dc9d76d9-a750-400d-af31-c42a38600882",
   "metadata": {},
   "outputs": [
    {
     "name": "stdout",
     "output_type": "stream",
     "text": [
      "Se ha creado el archivo iris_1714651434.log\n",
      "Se ha creado el archivo iris_1714651444.log\n",
      "Se ha creado el archivo iris_1714651454.log\n",
      "Se ha creado el archivo iris_1714651464.log\n",
      "Se ha creado el archivo iris_1714651474.log\n",
      "Se ha creado el archivo iris_1714651484.log\n",
      "Se ha creado el archivo iris_1714651494.log\n"
     ]
    },
    {
     "ename": "KeyboardInterrupt",
     "evalue": "",
     "output_type": "error",
     "traceback": [
      "\u001b[1;31m---------------------------------------------------------------------------\u001b[0m",
      "\u001b[1;31mKeyboardInterrupt\u001b[0m                         Traceback (most recent call last)",
      "Cell \u001b[1;32mIn[3], line 28\u001b[0m\n\u001b[0;32m     25\u001b[0m \u001b[38;5;28mprint\u001b[39m(\u001b[38;5;124mf\u001b[39m\u001b[38;5;124m'\u001b[39m\u001b[38;5;124mSe ha creado el archivo \u001b[39m\u001b[38;5;132;01m{\u001b[39;00mfilename\u001b[38;5;132;01m}\u001b[39;00m\u001b[38;5;124m'\u001b[39m)\n\u001b[0;32m     27\u001b[0m \u001b[38;5;66;03m# Esperar 10 segundos antes de pasar a la siguiente fila\u001b[39;00m\n\u001b[1;32m---> 28\u001b[0m \u001b[43mtime\u001b[49m\u001b[38;5;241;43m.\u001b[39;49m\u001b[43msleep\u001b[49m\u001b[43m(\u001b[49m\u001b[38;5;241;43m10\u001b[39;49m\u001b[43m)\u001b[49m\n",
      "\u001b[1;31mKeyboardInterrupt\u001b[0m: "
     ]
    }
   ],
   "source": [
    "import pandas as pd\n",
    "import time\n",
    "import os\n",
    "\n",
    "iris_df = pd.read_csv('C:/Users/hugod/Desktop/TFG/ficheros/iris/iris.data', header=None)\n",
    "\n",
    "log_folder = 'C:/Users/hugod/Desktop/TFG/ficheros/iris/logs'\n",
    "\n",
    "if not os.path.exists(log_folder):\n",
    "    os.makedirs(log_folder)\n",
    "\n",
    "# Iterar sobre cada fila del dataset de Iris\n",
    "for index, row in iris_df.iterrows():\n",
    "    # Transformar la fila en una cadena de texto\n",
    "    log_data = ','.join(map(str, row.values))\n",
    "    \n",
    "    # Crea un nombre de archivo único basado en la hora actual\n",
    "    timestamp = int(time.time())\n",
    "    filename = f'iris_{timestamp}.log'\n",
    "    \n",
    "    # Escribe los datos en el archivo de registro\n",
    "    with open(os.path.join(log_folder, filename), 'w') as f:\n",
    "        f.write(log_data)\n",
    "    \n",
    "    print(f'Se ha creado el archivo {filename}')\n",
    "    \n",
    "    # Esperar 10 segundos antes de pasar a la siguiente fila\n",
    "    time.sleep(10)\n"
   ]
  },
  {
   "cell_type": "code",
   "execution_count": null,
   "id": "288a23e5-ffc7-48ce-a124-1f1a591dba29",
   "metadata": {},
   "outputs": [],
   "source": []
  }
 ],
 "metadata": {
  "kernelspec": {
   "display_name": "Python 3 (ipykernel)",
   "language": "python",
   "name": "python3"
  },
  "language_info": {
   "codemirror_mode": {
    "name": "ipython",
    "version": 3
   },
   "file_extension": ".py",
   "mimetype": "text/x-python",
   "name": "python",
   "nbconvert_exporter": "python",
   "pygments_lexer": "ipython3",
   "version": "3.12.2"
  }
 },
 "nbformat": 4,
 "nbformat_minor": 5
}
